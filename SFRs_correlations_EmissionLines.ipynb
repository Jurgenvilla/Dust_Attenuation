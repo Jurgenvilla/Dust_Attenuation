{
 "cells": [
  {
   "cell_type": "markdown",
   "metadata": {},
   "source": [
    "# H$_\\alpha$ and [OIII] correlations\n",
    "\n",
    "\n",
    "In this notebook I focus on the comparison of the CIGALE outputs for SFR in the COSMOS and GOODS-S field mainly using the H$_\\alpha$ and the [OIII] lines. \n",
    "\n",
    "The CIGALE outputs will be taken as the best models based on the work of B. Argence & F. Lamareille., 2009 where they compared CL01 models to dusta attenuation corrected SFRs using H$_\\alpha$ as in Keniccutt., 1998, a proposed power law, single-line and double-line calibrations when no dust information is available.\n",
    "\n",
    "Following Suzuki et al., 2016 we can also compare to the beta-slope method.However, they separated the samples in three different ones due to the fact that [OIII] emitters somehow are biased in comparison to H$_\\alpha$ to larger sSFRuv. \n",
    "\n",
    "I will use a combination of both methods to study my sample in which I plan to use CIGALE as the correct method and compare it to all the possible versions. Also splitting the whole sample into different emitters to see if something is changes.\n",
    "\n",
    "I will exclude the AGN sources by: \n",
    "                                   \n",
    "                                   i) comparing to CIGALE agn_frac\n",
    "\n",
    "                                   ii) using the IRAC bands method, or/and \n",
    "                                   \n",
    "                                   iii) simply excluding all the x-ray data"
   ]
  },
  {
   "cell_type": "code",
   "execution_count": 208,
   "metadata": {},
   "outputs": [],
   "source": [
    "# Regular packages\n",
    "\n",
    "import numpy as np\n",
    "import matplotlib.pyplot as plt\n",
    "from astropy.table import Table, Column\n",
    "import os\n",
    "from matplotlib.legend_handler import HandlerPathCollection\n",
    "import pandas as pd\n",
    "import warnings\n",
    "import scipy.integrate as integrate\n",
    "from scipy.optimize import curve_fit\n",
    "\n",
    "%matplotlib inline"
   ]
  },
  {
   "cell_type": "code",
   "execution_count": 268,
   "metadata": {},
   "outputs": [],
   "source": [
    "# Functions\n",
    "#--------------------------------------------------------\n",
    "\n",
    "# Values taken from https://arxiv.org/pdf/1807.06209.pdf\n",
    "H0 = 2.184e-21 # km s^−1 m^−1 (67.4 km s^−1 Mpc^−1)\n",
    "c  = 2.99792e5 # km s^−1\n",
    "Om = 0.315\n",
    "Ol = 1.0 - Om\n",
    "\n",
    "# Line-emission luminosity\n",
    "def flux_to_luminosity(flux, z ,Om, Ol, c, H0):\n",
    "        \n",
    "    d = (c/H0)*(1.0 + z)\n",
    "    \n",
    "    integral = integrate.quad(lambda x: ((1.0 + x)**2*(1.0 + Om*x) - Ol*x*(2.0 + x))**(-1.0/2.0), 0.0, z)\n",
    "    \n",
    "    L = 4.0*np.pi*( d*integral[0] )**2*flux\n",
    "    \n",
    "    return(L*1e7) # From Watts to erg s^-1"
   ]
  },
  {
   "cell_type": "markdown",
   "metadata": {},
   "source": [
    "# Data: Observations + CIGALE outputs"
   ]
  },
  {
   "cell_type": "code",
   "execution_count": 269,
   "metadata": {},
   "outputs": [],
   "source": [
    "# Data with all the info\n",
    "# This data is the one with all the info before creating the Original data which was used in CIGALE\n",
    "\n",
    "COSMOS = Table.read('/home/jvilla/Documents/PhD_2018/3DHST_Data/'\n",
    "                    'COSMOS_GOODS-S_MosphoXray_Sample/Crossmatch_ContsantObjects/'\n",
    "                    'COSMOS_mine_morpho_xraychandra.fits', format = 'fits')\n",
    "GOODSS = Table.read('/home/jvilla/Documents/PhD_2018/3DHST_Data/'\n",
    "                    'COSMOS_GOODS-S_MosphoXray_Sample/Crossmatch_ContsantObjects/'\n",
    "                    'GOODSS_mine_morpho_xraychandra_NUV.fits', format = 'fits')\n",
    "\n",
    "# Original data\n",
    "# This is the file used in CIGALE\n",
    "\n",
    "COSMOS_cigale = Table.read('/home/jvilla/Documents/PhD_2018/3DHST_Data/'\n",
    "                           'Final_samples/COSMOS_HaOIII_all.fits', format = 'fits')\n",
    "GOODSS_cigale = Table.read('/home/jvilla/Documents/PhD_2018/3DHST_Data/'\n",
    "                           'Final_samples/GOODSS_HaOIII_all.fits', format = 'fits')\n",
    "\n",
    "# Data from CIGALE\n",
    "\n",
    "# Calzetti recipe\n",
    "\n",
    "# COSMOS_Calzetti_results = Table.read('', format = 'ascii') \n",
    "# GOODSS_Calzetti_results =  Table.read('', format = 'ascii')\n",
    "\n",
    "# CF00 recipe\n",
    "\n",
    "COSMOS_CF00_results = Table.read('/home/jvilla/Documents/PhD_2018/3DHST_Data/'\n",
    "                                 'AGN_cigale_runs/No_AGN_module/COSMOS_CF00_HaOIII_noAGN.txt', format = 'ascii') \n",
    "GOODSS_CF00_results =  Table.read('/home/jvilla/Documents/PhD_2018/3DHST_Data/'\n",
    "                                 'AGN_cigale_runs/No_AGN_module/GOODSS_CF00_HaOIII_noAGN.txt', format = 'ascii')"
   ]
  },
  {
   "cell_type": "markdown",
   "metadata": {},
   "source": [
    "# Excluding Xray i.e. AGNs from both samples"
   ]
  },
  {
   "cell_type": "code",
   "execution_count": 270,
   "metadata": {},
   "outputs": [
    {
     "name": "stdout",
     "output_type": "stream",
     "text": [
      "No-Xray data in COSMOS: 3648\n",
      "No-Xray data in GOODSS: 1525\n"
     ]
    }
   ],
   "source": [
    "COSMOS = COSMOS.to_pandas()\n",
    "GOODSS = GOODSS.to_pandas()\n",
    "\n",
    "COSMOS = COSMOS.fillna(-9999.99)\n",
    "GOODSS = GOODSS.fillna(-9999.99)\n",
    "\n",
    "COSMOS = Table.from_pandas(COSMOS)\n",
    "GOODSS = Table.from_pandas(GOODSS)\n",
    "\n",
    "\n",
    "COSMOS_xray = COSMOS[(COSMOS['flux_F'] <= 0) ^ (COSMOS['flux_S'] <= 0) ^ (COSMOS['flux_H'] <= 0)]\n",
    "GOODSS_xray = GOODSS[(GOODSS['FLUX_FULL'] <= 0) ^ (GOODSS['FLUX_SOFT'] <= 0) ^ (GOODSS['FLUX_HARD'] <= 0)]\n",
    "\n",
    "print('No-Xray data in COSMOS: %i'%len(COSMOS_xray))\n",
    "print('No-Xray data in GOODSS: %i'%len(GOODSS_xray))"
   ]
  },
  {
   "cell_type": "code",
   "execution_count": 271,
   "metadata": {},
   "outputs": [],
   "source": [
    "COSMOS_cigale = COSMOS_cigale[(COSMOS['flux_F'] <= 0) ^ (COSMOS['flux_S'] <= 0) ^ (COSMOS['flux_H'] <= 0)]\n",
    "GOODSS_cigale = GOODSS_cigale[(GOODSS['FLUX_FULL'] <= 0) ^ (GOODSS['FLUX_SOFT'] <= 0) ^ (GOODSS['FLUX_HARD'] <= 0)]\n",
    "\n",
    "COSMOS_CF00_results = COSMOS_CF00_results[(COSMOS['flux_F'] <= 0) ^ (COSMOS['flux_S'] <= 0) ^ (COSMOS['flux_H'] <= 0)]\n",
    "GOODSS_CF00_results = GOODSS_CF00_results[(GOODSS['FLUX_FULL'] <= 0) ^ (GOODSS['FLUX_SOFT'] <= 0) ^ (GOODSS['FLUX_HARD'] <= 0)]"
   ]
  },
  {
   "cell_type": "code",
   "execution_count": 272,
   "metadata": {},
   "outputs": [],
   "source": [
    "# COSMOS_CF00_results = COSMOS_CF00_results[(COSMOS_CF00_results['best.line.NII-654.8+line.H-alpha+line.NII-658.4'] >= 0)]\n",
    "# GOODSS_CF00_results = GOODSS_CF00_results[(GOODSS_CF00_results['best.line.NII-654.8+line.H-alpha+line.NII-658.4'] >= 0)]"
   ]
  },
  {
   "cell_type": "markdown",
   "metadata": {},
   "source": [
    "# Star-Formation Rate calibrations"
   ]
  },
  {
   "cell_type": "markdown",
   "metadata": {},
   "source": [
    "# H$_\\alpha$ calibration - Kennicutt., 1998"
   ]
  },
  {
   "cell_type": "code",
   "execution_count": 273,
   "metadata": {
    "scrolled": false
   },
   "outputs": [],
   "source": [
    "COSMOS_Halpha         = []\n",
    "COSMOS_Halpha_results = []\n",
    "\n",
    "for i in range(len(COSMOS_cigale)):\n",
    "    \n",
    "    COSMOS_L_Halpha = flux_to_luminosity(flux=COSMOS_cigale['line.NII-654.8+line.H-alpha+line.NII-658.4'][i], z=COSMOS_cigale['redshift'][i], Om=Om, Ol=Ol, c=c, H0=H0)\n",
    "    COSMOS_Halpha.append(COSMOS_L_Halpha)\n",
    "    \n",
    "    COSMOS_L_Halpha_results = flux_to_luminosity(flux=COSMOS_CF00_results['best.line.NII-654.8+line.H-alpha+line.NII-658.4'][i], z=COSMOS_CF00_results['best.universe.redshift'][i], Om=Om, Ol=Ol, c=c, H0=H0)\n",
    "#     COSMOS_L_Halpha_results = flux_to_luminosity(flux=COSMOS_CF00_results['best.line.NII-654.8+line.H-alpha+line.NII-658.4'][i], z=COSMOS_cigale['redshift'][i], Om=Om, Ol=Ol, c=c, H0=H0)\n",
    "    COSMOS_Halpha_results.append(COSMOS_L_Halpha_results)\n",
    "    \n",
    "GOODSS_Halpha         = []\n",
    "GOODSS_Halpha_results = []\n",
    "\n",
    "for i in range(len(GOODSS_cigale)):\n",
    "    \n",
    "    GOODSS_L_Halpha = flux_to_luminosity(flux=GOODSS_cigale['line.NII-654.8+line.H-alpha+line.NII-658.4'][i], z=GOODSS_cigale['redshift'][i], Om=Om, Ol=Ol, c=c, H0=H0)\n",
    "    GOODSS_Halpha.append(GOODSS_L_Halpha) \n",
    "    \n",
    "    GOODSS_L_Halpha_results = flux_to_luminosity(flux=GOODSS_CF00_results['best.line.NII-654.8+line.H-alpha+line.NII-658.4'][i], z=GOODSS_CF00_results['best.universe.redshift'][i], Om=Om, Ol=Ol, c=c, H0=H0)\n",
    "    GOODSS_Halpha_results.append(GOODSS_L_Halpha_results)  "
   ]
  },
  {
   "cell_type": "code",
   "execution_count": 279,
   "metadata": {},
   "outputs": [
    {
     "name": "stdout",
     "output_type": "stream",
     "text": [
      "1.0 1.0\n"
     ]
    },
    {
     "name": "stderr",
     "output_type": "stream",
     "text": [
      "/home/jvilla/anaconda3/lib/python3.7/site-packages/ipykernel_launcher.py:8: RuntimeWarning: divide by zero encountered in log10\n",
      "  \n",
      "/home/jvilla/anaconda3/lib/python3.7/site-packages/scipy/optimize/minpack.py:794: OptimizeWarning: Covariance of the parameters could not be estimated\n",
      "  category=OptimizeWarning)\n",
      "/home/jvilla/anaconda3/lib/python3.7/site-packages/ipykernel_launcher.py:30: RuntimeWarning: divide by zero encountered in log10\n",
      "/home/jvilla/anaconda3/lib/python3.7/site-packages/ipykernel_launcher.py:30: RuntimeWarning: invalid value encountered in log10\n",
      "/home/jvilla/anaconda3/lib/python3.7/site-packages/ipykernel_launcher.py:31: RuntimeWarning: divide by zero encountered in log10\n",
      "/home/jvilla/anaconda3/lib/python3.7/site-packages/ipykernel_launcher.py:31: RuntimeWarning: invalid value encountered in log10\n"
     ]
    },
    {
     "data": {
      "text/plain": [
       "<matplotlib.legend.Legend at 0x7fe9a37eba58>"
      ]
     },
     "execution_count": 279,
     "metadata": {},
     "output_type": "execute_result"
    },
    {
     "data": {
      "image/png": "[encoded data removed]",
      "text/plain": [
       "<Figure size 504x432 with 1 Axes>"
      ]
     },
     "metadata": {
      "needs_background": "light"
     },
     "output_type": "display_data"
    }
   ],
   "source": [
    "# From Suzuki et al., 2016\n",
    "# L_Ha is already in erg s^-1\n",
    "\n",
    "def SFR_kennicutt_98(L_Ha):\n",
    "    return( np.multiply(7.9e-42, L_Ha) )\n",
    "\n",
    "def model_SFR(x, a, b):\n",
    "    return( a*np.log10(x) - np.log10(b))\n",
    "\n",
    "# COSMOS_Halpha = np.array(COSMOS_Halpha)\n",
    "# GOODSS_Halpha = np.array(GOODSS_Halpha)\n",
    "# COSMOS_Halpha_results = np.array(COSMOS_Halpha_results)\n",
    "# GOODSS_Halpha_results = np.array(GOODSS_Halpha_results)\n",
    "\n",
    "# COSMOS_Halpha_results = COSMOS_Halpha_results[COSMOS_Halpha_results > 0]\n",
    "# GOODSS_Halpha_results = GOODSS_Halpha_results[GOODSS_Halpha_results > 0]\n",
    "# COSMOS_Halpha = COSMOS_Halpha[COSMOS_Halpha_results > 0]\n",
    "# GOODSS_Halpha = GOODSS_Halpha[GOODSS_Halpha_results > 0]\n",
    "\n",
    "\n",
    "popt_COSMOS, pcov_COSMOS = curve_fit(model_SFR, COSMOS_Halpha_results, SFR_kennicutt_98(COSMOS_Halpha))\n",
    "# popt_GOODSS, pcov_GOODSS = curve_fit(model_SFR, GOODSS_Halpha_results, SFR_kennicutt_98(GOODSS_Halpha))\n",
    "\n",
    "print(*popt_COSMOS)\n",
    "# print(*popt_GOODSS)\n",
    "\n",
    "plt.figure(figsize = (7, 6))\n",
    "# plt.scatter(np.log10(COSMOS_Halpha), np.log10(SFR_kennicutt_98(COSMOS_Halpha)))\n",
    "# plt.scatter(np.log10(GOODSS_Halpha), np.log10(SFR_kennicutt_98(GOODSS_Halpha)))\n",
    "plt.scatter(np.log10(COSMOS_Halpha_results), np.log10(SFR_kennicutt_98(COSMOS_Halpha)), s = 2, label = 'COSMOS')\n",
    "plt.scatter(np.log10(GOODSS_Halpha_results), np.log10(SFR_kennicutt_98(GOODSS_Halpha)), s = 2, label = 'GOODS-S')\n",
    "plt.plot(np.linspace(30, 50, 100), 0.951*np.linspace(30, 50, 100)-39.38)\n",
    "plt.ylim(-5, 3)\n",
    "plt.xlim(36, 44)\n",
    "plt.xlabel(r'log L(H$_\\alpha$) (erg/s) - original', fontsize = 15)\n",
    "plt.ylabel(r'log SFR (M$\\odot/yr$)', fontsize = 15)\n",
    "plt.tick_params(axis = 'both', which = 'major', labelsize = 15)\n",
    "plt.legend(frameon = False, prop = {'size': 15}, markerscale = 1.3 , loc = 'upper left')"
   ]
  },
  {
   "cell_type": "code",
   "execution_count": null,
   "metadata": {},
   "outputs": [],
   "source": []
  },
  {
   "cell_type": "markdown",
   "metadata": {},
   "source": [
    "# Balmer decrement"
   ]
  },
  {
   "cell_type": "code",
   "execution_count": null,
   "metadata": {},
   "outputs": [],
   "source": []
  },
  {
   "cell_type": "markdown",
   "metadata": {},
   "source": [
    "# [OIII]/H$_\\alpha^i$ calibration"
   ]
  },
  {
   "cell_type": "code",
   "execution_count": null,
   "metadata": {},
   "outputs": [],
   "source": []
  },
  {
   "cell_type": "markdown",
   "metadata": {},
   "source": [
    "# Signle-line calibration using H$_\\alpha$ and [OIII] observations"
   ]
  },
  {
   "cell_type": "code",
   "execution_count": null,
   "metadata": {},
   "outputs": [],
   "source": []
  },
  {
   "cell_type": "markdown",
   "metadata": {},
   "source": [
    "# Two-line calibration using [OIII]/H$_\\alpha^i$ to infer [OIII]/H$_\\beta$"
   ]
  },
  {
   "cell_type": "code",
   "execution_count": null,
   "metadata": {},
   "outputs": [],
   "source": []
  },
  {
   "cell_type": "markdown",
   "metadata": {},
   "source": [
    "# UV-$\\beta$ slope method"
   ]
  },
  {
   "cell_type": "code",
   "execution_count": null,
   "metadata": {},
   "outputs": [],
   "source": []
  }
 ],
 "metadata": {
  "kernelspec": {
   "display_name": "Python 3",
   "language": "python",
   "name": "python3"
  },
  "language_info": {
   "codemirror_mode": {
    "name": "ipython",
    "version": 3
   },
   "file_extension": ".py",
   "mimetype": "text/x-python",
   "name": "python",
   "nbconvert_exporter": "python",
   "pygments_lexer": "ipython3",
   "version": "3.7.0"
  }
 },
 "nbformat": 4,
 "nbformat_minor": 2
}
