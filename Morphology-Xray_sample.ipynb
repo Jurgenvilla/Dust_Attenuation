{
 "cells": [
  {
   "cell_type": "markdown",
   "metadata": {},
   "source": [
    "# COSMOS and GOODS-S Morphology from 3D-SHT and Xray information from CHANDRA\n",
    "\n",
    "In this notebook, I take the most general sample created for COSMOS and GOODS-S fields and I crossmatch them with the 3D-HST morphology database created by Arjen van der Wel as part of the 3D-HST project for the CANDELS fields and information available from the CHANDRA database. \n",
    "\n",
    "-------------------------------------------------------------------------------------------------------------------\n",
    "\n",
    "Morphology: http://www.mpia.de/homes/vdwel/3dhstcandels.html\n",
    "\n",
    "http://www.mpia.de/homes/vdwel/candels.html\n",
    "\n",
    "-------------------------------------------------------------------------------------------------------------------\n",
    "-------------------------------------------------------------------------------------------------------------------\n",
    "\n",
    "X-ray:https://arxiv.org/pdf/1512.00510.pdf\n",
    "\n",
    "http://www.mpia.de/homes/vdwel/candels.html\n",
    "\n",
    "https://arxiv.org/pdf/1512.00510.pdf\n",
    "\n",
    "https://arxiv.org/pdf/1512.00510.pdf\n",
    "\n",
    "-------------------------------------------------------------------------------------------------------------------\n",
    "-------------------------------------------------------------------------------------------------------------------\n",
    "\n"
   ]
  },
  {
   "cell_type": "code",
   "execution_count": 1,
   "metadata": {},
   "outputs": [],
   "source": [
    "# Regular packages\n",
    "\n",
    "import numpy as np\n",
    "import matplotlib.pyplot as plt\n",
    "from astropy.table import Table, Column\n",
    "import os\n",
    "from matplotlib.legend_handler import HandlerPathCollection\n",
    "import pandas as pd\n",
    "\n",
    "%matplotlib inline"
   ]
  },
  {
   "cell_type": "markdown",
   "metadata": {},
   "source": [
    "# COSMOS and GOODS-S final sample"
   ]
  },
  {
   "cell_type": "code",
   "execution_count": null,
   "metadata": {},
   "outputs": [],
   "source": [
    "#GOODS-S\n",
    "#=================================================================================================================\n",
    "GOODSS = Table.read('/home/jvilla/Documents/PhD_2018/3DHST_Data/GOODS-fields/'\n",
    "                                 'GOODSS_final_sample_CIGALE.fits', format = 'fits')\n",
    "\n",
    "#COSMOS\n",
    "#=================================================================================================================\n",
    "\n",
    "# The 'final_sample.fits' file in /home/jvilla/Documents/PhD_2018/3DHST_Data/COSMOS/CIGALE_file/\n",
    "# has all the information without being filtered yet! + RA and DEC information\n",
    "# However, COSMOS_final.fits is the same but ready for CIGALE-analysis \n",
    "\n",
    "# No-Resdshift restricted\n",
    "COSMOS = Table.read('/home/jvilla/Documents/PhD_2018/3DHST_Data/COSMOS'\n",
    "                        '/CIGALE_file/COSMOS_final.fits', format='fits')"
   ]
  },
  {
   "cell_type": "code",
   "execution_count": null,
   "metadata": {},
   "outputs": [],
   "source": [
    "columns_goodss = ['UVIMOS','UVIMOS_err','hst.wfc.F435W','hst.wfc.F435W_err',\\\n",
    "           'hst.wfc.F606W','hst.wfc.F606W_err','hst.wfc.F755W','hst.wfc.F755W_err',\\\n",
    "           'hst.wfc.F814W','hst.wfc.F814W_err','ACS_F850LP','ACS_F850LP_err',\\\n",
    "           'WFC3_F098M','WFC3_F098M_err','WFC3_F105W','WFC3_F105W_err',\\\n",
    "           'hst.wfc3.F125W','hst.wfc3.F125W_err','hst.wfc3.F160W','hst.wfc3.F160W_err',\\\n",
    "           'ISAACKs','ISAACKs_err','spitzer.irac.ch1','spitzer.irac.ch1_err',\\\n",
    "           'spitzer.irac.ch2','spitzer.irac.ch2_err','spitzer.irac.ch3','spitzer.irac.ch3_err',\\\n",
    "           'spitzer.irac.ch4','spitzer.irac.ch4_err','spitzer.mips.24','spitzer.mips.24_err',\\\n",
    "           'herschel.pacs.70','herschel.pacs.70_err','herschel.pacs.100','herschel.pacs.100_err',\\\n",
    "           'herschel.pacs.160','herschel.pacs.160_err','herschel.spire.PSW','herschel.spire.PSW_err',\\\n",
    "           'herschel.spire.PMW','herschel.spire.PMW_err','herschel.spire.PLW','herschel.spire.PLW_err',\\\n",
    "           'line.NII-654.8+line.H-alpha+line.NII-658.4','line.NII-654.8+line.H-alpha+line.NII-658.4_err',\\\n",
    "           'line.H-beta','line.H-beta_err',\\\n",
    "           'line.H-16+line.H-15+line.OII-372.7+line.H-13+line.H-12',\\\n",
    "           'line.H-16+line.H-15+line.OII-372.7+line.H-13+line.H-12_err',\\\n",
    "           'line.OIII-500.7','line.OIII-500.7_err']\n",
    "\n",
    "columns_cosmos = ['galex.NUV','galex.NUV_err','cfht.megacam.u','cfht.megacam.u_err',\\\n",
    "           'subaru.suprime.B','subaru.suprime.B_err','subaru.suprime.V','subaru.suprime.V_err',\\\n",
    "           'subaru.suprime.r','subaru.suprime.r_err','subaru.suprime.i','subaru.suprime.i_err',\\\n",
    "           'subaru.suprime.z','subaru.suprime.z_err','subaru.hsc.y','subaru.hsc.y_err',\\\n",
    "           'UKIRT_WFCJ','UKIRT_WFCJ_err','cfht.wircam.H','cfht.wircam.H_err',\\\n",
    "           'WFCAM_K','WFCAM_K_err','IRAC1','IRAC1_err',\\\n",
    "           'IRAC2','IRAC2_err','IRAC3','IRAC3_err','IRAC4','IRAC4_err',\\\n",
    "           'spitzer.mips.24','spitzer.mips.24_err','herschel.pacs.100','herschel.pacs.100_err',\\\n",
    "           'herschel.pacs.160','herschel.pacs.160_err','herschel.spire.PSW','herschel.spire.PSW_err',\\\n",
    "           'herschel.spire.PMW','herschel.spire.PMW_err','herschel.spire.PLW','herschel.spire.PLW_err',\\\n",
    "           'line.NII-654.8+line.H-alpha+line.NII-658.4',\\\n",
    "           'line.NII-654.8+line.H-alpha+line.NII-658.4_err',\\\n",
    "           'line.H-beta','line.H-beta_err',\\\n",
    "           'line.H-16+line.H-15+line.OII-372.7+line.H-13+line.H-12',\\\n",
    "           'line.H-16+line.H-15+line.OII-372.7+line.H-13+line.H-12_err',\\\n",
    "           'line.OIII-500.7','line.OIII-500.7_err']"
   ]
  },
  {
   "cell_type": "markdown",
   "metadata": {},
   "source": [
    "# COSMOS and GOODS-S Morphology sample"
   ]
  },
  {
   "cell_type": "code",
   "execution_count": 18,
   "metadata": {},
   "outputs": [],
   "source": [
    "cosmos_f125 = Table.read('/home/jvilla/Documents/PhD_2018/3DHST_Data/COSMOS_GOODS-S_MosphoXray_Sample/'\n",
    "                         'Morphology-CANDELS-fields/cos_2epoch_wfc3_f125w_060mas_v1.0_galfit.cat', format = 'ascii')\n",
    "\n",
    "cosmos_f160 = Table.read('/home/jvilla/Documents/PhD_2018/3DHST_Data/COSMOS_GOODS-S_MosphoXray_Sample/'\n",
    "                         'Morphology-CANDELS-fields/cos_2epoch_wfc3_f160w_060mas_v1.0_galfit.cat', format = 'ascii')\n",
    "\n",
    "cosmos_f125 = Table.read('/home/jvilla/Documents/PhD_2018/3DHST_Data/COSMOS_GOODS-S_MosphoXray_Sample/'\n",
    "                         'Morphology-CANDELS-fields/cos_2epoch_wfc3_f125w_060mas_v1.0_galfit.cat', format = 'ascii')\n",
    "\n",
    "\n",
    "\n",
    "goodss_f105 = Table.read('/home/jvilla/Documents/PhD_2018/3DHST_Data/COSMOS_GOODS-S_MosphoXray_Sample/'\n",
    "                         'Morphology-CANDELS-fields/gs_all_candels_ers_udf_f105w_v0.5_galfit.cat', format = 'ascii')\n",
    "\n",
    "goodss_f125 = Table.read('/home/jvilla/Documents/PhD_2018/3DHST_Data/COSMOS_GOODS-S_MosphoXray_Sample/'\n",
    "                         'Morphology-CANDELS-fields/gs_all_candels_ers_udf_f125w_v0.5_galfit.cat', format = 'ascii')\n",
    "\n",
    "goodss_f160 = Table.read('/home/jvilla/Documents/PhD_2018/3DHST_Data/COSMOS_GOODS-S_MosphoXray_Sample/'\n",
    "                         'Morphology-CANDELS-fields/gs_all_candels_ers_udf_f160w_v0.5_galfit.cat', format = 'ascii')"
   ]
  },
  {
   "cell_type": "code",
   "execution_count": 69,
   "metadata": {},
   "outputs": [],
   "source": [
    "goodss_f160.write('/home/jvilla/Documents/PhD_2018/3DHST_Data/COSMOS_GOODS-S_MosphoXray_Sample/'\n",
    "                         'Morphology-CANDELS-fields/gs_all_candels_ers_udf_f160w_v0.5_galfit.fits', format = 'fits', overwrite = True)"
   ]
  },
  {
   "cell_type": "code",
   "execution_count": 71,
   "metadata": {},
   "outputs": [],
   "source": [
    "cosmos_f160.write('/home/jvilla/Documents/PhD_2018/3DHST_Data/COSMOS_GOODS-S_MosphoXray_Sample/'\n",
    "                         'Morphology-CANDELS-fields/cos_2epoch_wfc3_f160w_060mas_v1.0_galfit.fits', format = 'fits', overwrite = True)"
   ]
  },
  {
   "cell_type": "markdown",
   "metadata": {},
   "source": [
    "# COSMOS and GOODS-S + Morphology F160w"
   ]
  },
  {
   "cell_type": "code",
   "execution_count": 72,
   "metadata": {},
   "outputs": [],
   "source": [
    "cosmos = Table.read('/home/jvilla/Documents/PhD_2018/3DHST_Data/COSMOS_GOODS-S_MosphoXray_Sample/'\n",
    "                         'Morphology-CANDELS-fields/COSMOS_f160w_060mas_v1.0_galfit.fits', format = 'fits')\n",
    "\n",
    "goodss = Table.read('/home/jvilla/Documents/PhD_2018/3DHST_Data/COSMOS_GOODS-S_MosphoXray_Sample/'\n",
    "                         'Morphology-CANDELS-fields/GOODS-S_f160w_v0.5_galfit.fits', format = 'fits')"
   ]
  },
  {
   "cell_type": "code",
   "execution_count": 77,
   "metadata": {},
   "outputs": [
    {
     "name": "stdout",
     "output_type": "stream",
     "text": [
      "3666\n",
      "1877\n",
      "-----------------\n",
      "3371\n",
      "1781\n"
     ]
    }
   ],
   "source": [
    "print(len(cosmos))\n",
    "print(len(goodss))\n",
    "print('-----------------')\n",
    "print(len(cosmos[(cosmos['f'] == 0) ^ (cosmos['f'] == 1)]))\n",
    "print(len(goodss[(goodss['f'] == 0) ^ (goodss['f'] == 1)]))"
   ]
  },
  {
   "cell_type": "code",
   "execution_count": null,
   "metadata": {},
   "outputs": [],
   "source": [
    "plt.scatter()"
   ]
  }
 ],
 "metadata": {
  "kernelspec": {
   "display_name": "Python 3",
   "language": "python",
   "name": "python3"
  },
  "language_info": {
   "codemirror_mode": {
    "name": "ipython",
    "version": 3
   },
   "file_extension": ".py",
   "mimetype": "text/x-python",
   "name": "python",
   "nbconvert_exporter": "python",
   "pygments_lexer": "ipython3",
   "version": "3.7.0"
  }
 },
 "nbformat": 4,
 "nbformat_minor": 2
}
