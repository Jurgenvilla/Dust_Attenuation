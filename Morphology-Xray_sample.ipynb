{
 "cells": [
  {
   "cell_type": "markdown",
   "metadata": {},
   "source": [
    "# COSMOS and GOODS-S Morphology from 3D-SHT and Xray information from CHANDRA\n",
    "\n",
    "In this notebook, I take the most general sample created for COSMOS and GOODS-S fields and I crossmatch them with the 3D-HST morphology database created by Arjen van der Wel as part of the 3D-HST project for the CANDELS fields and information available from the CHANDRA database. \n",
    "\n",
    "-------------------------------------------------------------------------------------------------------------------\n",
    "\n",
    "Morphology: http://www.mpia.de/homes/vdwel/3dhstcandels.html\n",
    "\n",
    "http://www.mpia.de/homes/vdwel/candels.html\n",
    "\n",
    "-------------------------------------------------------------------------------------------------------------------\n",
    "-------------------------------------------------------------------------------------------------------------------\n",
    "\n",
    "X-ray:https://arxiv.org/pdf/1512.00510.pdf\n",
    "\n",
    "http://www.mpia.de/homes/vdwel/candels.html\n",
    "\n",
    "https://arxiv.org/pdf/1512.00510.pdf\n",
    "\n",
    "https://arxiv.org/pdf/1512.00510.pdf\n",
    "\n",
    "COSMOS Xray: https://arxiv.org/pdf/1512.00510.pdf\n",
    "\n",
    "https://irsa.ipac.caltech.edu/data/COSMOS/tables/xmm/\n",
    "\n",
    "https://irsa.ipac.caltech.edu/data/COSMOS/tables/chandra/\n",
    "\n",
    "GOODS-S Xray: http://www.astrodeep.eu/data/\n",
    "\n",
    "https://arxiv.org/pdf/1512.00510.pdf\n",
    "\n",
    "-------------------------------------------------------------------------------------------------------------------\n",
    "-------------------------------------------------------------------------------------------------------------------\n",
    "\n"
   ]
  },
  {
   "cell_type": "code",
   "execution_count": 1,
   "metadata": {},
   "outputs": [],
   "source": [
    "# Regular packages\n",
    "\n",
    "import numpy as np\n",
    "import matplotlib.pyplot as plt\n",
    "from astropy.table import Table, Column\n",
    "import os\n",
    "from matplotlib.legend_handler import HandlerPathCollection\n",
    "import pandas as pd\n",
    "\n",
    "%matplotlib inline"
   ]
  },
  {
   "cell_type": "markdown",
   "metadata": {},
   "source": [
    "# COSMOS and GOODS-S final sample"
   ]
  },
  {
   "cell_type": "code",
   "execution_count": 2,
   "metadata": {},
   "outputs": [],
   "source": [
    "#GOODS-S\n",
    "#=================================================================================================================\n",
    "GOODSS = Table.read('/home/jvilla/Documents/PhD_2018/3DHST_Data/GOODS-fields/'\n",
    "                                 'GOODSS_final_sample_CIGALE.fits', format = 'fits')\n",
    "\n",
    "#COSMOS\n",
    "#=================================================================================================================\n",
    "\n",
    "# The 'final_sample.fits' file in /home/jvilla/Documents/PhD_2018/3DHST_Data/COSMOS/CIGALE_file/\n",
    "# has all the information without being filtered yet! + RA and DEC information\n",
    "# However, COSMOS_final.fits is the same but ready for CIGALE-analysis \n",
    "\n",
    "# No-Resdshift restricted\n",
    "COSMOS = Table.read('/home/jvilla/Documents/PhD_2018/3DHST_Data/COSMOS'\n",
    "                        '/CIGALE_file/COSMOS_final.fits', format='fits')"
   ]
  },
  {
   "cell_type": "code",
   "execution_count": 3,
   "metadata": {},
   "outputs": [],
   "source": [
    "columns_goodss = ['UVIMOS','UVIMOS_err','hst.wfc.F435W','hst.wfc.F435W_err',\\\n",
    "           'hst.wfc.F606W','hst.wfc.F606W_err','hst.wfc.F755W','hst.wfc.F755W_err',\\\n",
    "           'hst.wfc.F814W','hst.wfc.F814W_err','ACS_F850LP','ACS_F850LP_err',\\\n",
    "           'WFC3_F098M','WFC3_F098M_err','WFC3_F105W','WFC3_F105W_err',\\\n",
    "           'hst.wfc3.F125W','hst.wfc3.F125W_err','hst.wfc3.F160W','hst.wfc3.F160W_err',\\\n",
    "           'ISAACKs','ISAACKs_err','spitzer.irac.ch1','spitzer.irac.ch1_err',\\\n",
    "           'spitzer.irac.ch2','spitzer.irac.ch2_err','spitzer.irac.ch3','spitzer.irac.ch3_err',\\\n",
    "           'spitzer.irac.ch4','spitzer.irac.ch4_err','spitzer.mips.24','spitzer.mips.24_err',\\\n",
    "           'herschel.pacs.70','herschel.pacs.70_err','herschel.pacs.100','herschel.pacs.100_err',\\\n",
    "           'herschel.pacs.160','herschel.pacs.160_err','herschel.spire.PSW','herschel.spire.PSW_err',\\\n",
    "           'herschel.spire.PMW','herschel.spire.PMW_err','herschel.spire.PLW','herschel.spire.PLW_err',\\\n",
    "           'line.NII-654.8+line.H-alpha+line.NII-658.4','line.NII-654.8+line.H-alpha+line.NII-658.4_err',\\\n",
    "           'line.H-beta','line.H-beta_err',\\\n",
    "           'line.H-16+line.H-15+line.OII-372.7+line.H-13+line.H-12',\\\n",
    "           'line.H-16+line.H-15+line.OII-372.7+line.H-13+line.H-12_err',\\\n",
    "           'line.OIII-500.7','line.OIII-500.7_err']\n",
    "\n",
    "columns_cosmos = ['galex.NUV','galex.NUV_err','cfht.megacam.u','cfht.megacam.u_err',\\\n",
    "           'subaru.suprime.B','subaru.suprime.B_err','subaru.suprime.V','subaru.suprime.V_err',\\\n",
    "           'subaru.suprime.r','subaru.suprime.r_err','subaru.suprime.i','subaru.suprime.i_err',\\\n",
    "           'subaru.suprime.z','subaru.suprime.z_err','subaru.hsc.y','subaru.hsc.y_err',\\\n",
    "           'UKIRT_WFCJ','UKIRT_WFCJ_err','cfht.wircam.H','cfht.wircam.H_err',\\\n",
    "           'WFCAM_K','WFCAM_K_err','IRAC1','IRAC1_err',\\\n",
    "           'IRAC2','IRAC2_err','IRAC3','IRAC3_err','IRAC4','IRAC4_err',\\\n",
    "           'spitzer.mips.24','spitzer.mips.24_err','herschel.pacs.100','herschel.pacs.100_err',\\\n",
    "           'herschel.pacs.160','herschel.pacs.160_err','herschel.spire.PSW','herschel.spire.PSW_err',\\\n",
    "           'herschel.spire.PMW','herschel.spire.PMW_err','herschel.spire.PLW','herschel.spire.PLW_err',\\\n",
    "           'line.NII-654.8+line.H-alpha+line.NII-658.4',\\\n",
    "           'line.NII-654.8+line.H-alpha+line.NII-658.4_err',\\\n",
    "           'line.H-beta','line.H-beta_err',\\\n",
    "           'line.H-16+line.H-15+line.OII-372.7+line.H-13+line.H-12',\\\n",
    "           'line.H-16+line.H-15+line.OII-372.7+line.H-13+line.H-12_err',\\\n",
    "           'line.OIII-500.7','line.OIII-500.7_err']"
   ]
  },
  {
   "cell_type": "markdown",
   "metadata": {},
   "source": [
    "# COSMOS and GOODS-S Morphology sample"
   ]
  },
  {
   "cell_type": "code",
   "execution_count": null,
   "metadata": {},
   "outputs": [],
   "source": [
    "# the Morphology files F160W are corssmatched to the final samples for \n",
    "# COSMOS/GOODS-S using the files with coordinates !!!! \n",
    "\n",
    "# '/home/jvilla/Documents/PhD_2018/3DHST_Data/GOODS-fields/GOODSS_final_sample_CIGALE_RADEC.fits'\n",
    "\n",
    "# '/home/jvilla/Documents/PhD_2018/3DHST_Data/COSMOS/CIGALE_file/COSMOS_final_RADEC.fits'"
   ]
  },
  {
   "cell_type": "code",
   "execution_count": 6,
   "metadata": {},
   "outputs": [],
   "source": [
    "cosmos_f125 = Table.read('/home/jvilla/Documents/PhD_2018/3DHST_Data/COSMOS_GOODS-S_MosphoXray_Sample/'\n",
    "                         'Morphology-CANDELS-fields/cos_2epoch_wfc3_f125w_060mas_v1.0_galfit.cat', format = 'ascii')\n",
    "\n",
    "cosmos_f160 = Table.read('/home/jvilla/Documents/PhD_2018/3DHST_Data/COSMOS_GOODS-S_MosphoXray_Sample/'\n",
    "                         'Morphology-CANDELS-fields/cos_2epoch_wfc3_f160w_060mas_v1.0_galfit.cat', format = 'ascii')\n",
    "\n",
    "cosmos_f125 = Table.read('/home/jvilla/Documents/PhD_2018/3DHST_Data/COSMOS_GOODS-S_MosphoXray_Sample/'\n",
    "                         'Morphology-CANDELS-fields/cos_2epoch_wfc3_f125w_060mas_v1.0_galfit.cat', format = 'ascii')\n",
    "\n",
    "\n",
    "\n",
    "goodss_f105 = Table.read('/home/jvilla/Documents/PhD_2018/3DHST_Data/COSMOS_GOODS-S_MosphoXray_Sample/'\n",
    "                         'Morphology-CANDELS-fields/gs_all_candels_ers_udf_f105w_v0.5_galfit.cat', format = 'ascii')\n",
    "\n",
    "goodss_f125 = Table.read('/home/jvilla/Documents/PhD_2018/3DHST_Data/COSMOS_GOODS-S_MosphoXray_Sample/'\n",
    "                         'Morphology-CANDELS-fields/gs_all_candels_ers_udf_f125w_v0.5_galfit.cat', format = 'ascii')\n",
    "\n",
    "goodss_f160 = Table.read('/home/jvilla/Documents/PhD_2018/3DHST_Data/COSMOS_GOODS-S_MosphoXray_Sample/'\n",
    "                         'Morphology-CANDELS-fields/gs_all_candels_ers_udf_f160w_v0.5_galfit.cat', format = 'ascii')"
   ]
  },
  {
   "cell_type": "code",
   "execution_count": 7,
   "metadata": {},
   "outputs": [],
   "source": [
    "goodss_f160.write('/home/jvilla/Documents/PhD_2018/3DHST_Data/COSMOS_GOODS-S_MosphoXray_Sample/'\n",
    "                         'Morphology-CANDELS-fields/gs_all_candels_ers_udf_f160w_v0.5_galfit.fits', format = 'fits', overwrite = True)"
   ]
  },
  {
   "cell_type": "code",
   "execution_count": 8,
   "metadata": {},
   "outputs": [],
   "source": [
    "cosmos_f160.write('/home/jvilla/Documents/PhD_2018/3DHST_Data/COSMOS_GOODS-S_MosphoXray_Sample/'\n",
    "                         'Morphology-CANDELS-fields/cos_2epoch_wfc3_f160w_060mas_v1.0_galfit.fits', format = 'fits', overwrite = True)"
   ]
  },
  {
   "cell_type": "markdown",
   "metadata": {},
   "source": [
    "# COSMOS and GOODS-S + Morphology F160w"
   ]
  },
  {
   "cell_type": "code",
   "execution_count": 8,
   "metadata": {},
   "outputs": [],
   "source": [
    "cosmos = Table.read('/home/jvilla/Documents/PhD_2018/3DHST_Data/COSMOS_GOODS-S_MosphoXray_Sample/'\n",
    "                         'Morphology-CANDELS-fields/COSMOS_f160w_060mas_v1.0_galfit.fits', format = 'fits')\n",
    "\n",
    "goodss = Table.read('/home/jvilla/Documents/PhD_2018/3DHST_Data/COSMOS_GOODS-S_MosphoXray_Sample/'\n",
    "                         'Morphology-CANDELS-fields/GOODS-S_f160w_v0.5_galfit.fits', format = 'fits')"
   ]
  },
  {
   "cell_type": "markdown",
   "metadata": {},
   "source": [
    "# COSMOS and GOODS-S subsample with SNR > 3 in H$_\\alpha$ and [OIII]\n",
    "# Morphology is also kept at this stage"
   ]
  },
  {
   "cell_type": "code",
   "execution_count": 9,
   "metadata": {},
   "outputs": [
    {
     "name": "stderr",
     "output_type": "stream",
     "text": [
      "/home/jvilla/anaconda3/lib/python3.7/site-packages/ipykernel_launcher.py:3: RuntimeWarning: invalid value encountered in true_divide\n",
      "  This is separate from the ipykernel package so we can avoid doing imports until\n",
      "/home/jvilla/anaconda3/lib/python3.7/site-packages/astropy/table/column.py:965: RuntimeWarning: invalid value encountered in greater\n",
      "  return getattr(self.data, op)(other)\n"
     ]
    }
   ],
   "source": [
    "# Final sample to be used for scientific analysis\n",
    "\n",
    "Final_CIGALE = cosmos[(cosmos['line.NII-654.8+line.H-alpha+line.NII-658.4']/cosmos['line.NII-654.8+line.H-alpha+line.NII-658.4_err'] > 3) &\\\n",
    "                     (cosmos['line.OIII-500.7']/cosmos['line.OIII-500.7_err'] > 3)]\n",
    "\n",
    "cosmos_final = Table([Final_CIGALE['id'], Final_CIGALE['redshift'],\\\n",
    "                      Final_CIGALE['galex.NUV'], Final_CIGALE['galex.NUV_err'],\\\n",
    "                      Final_CIGALE['cfht.megacam.u'], Final_CIGALE['cfht.megacam.u_err'],\\\n",
    "                      Final_CIGALE['subaru.suprime.B'], Final_CIGALE['subaru.suprime.B_err'],\\\n",
    "                      Final_CIGALE['subaru.suprime.V'], Final_CIGALE['subaru.suprime.V_err'],\\\n",
    "                      Final_CIGALE['subaru.suprime.r'], Final_CIGALE['subaru.suprime.r_err'],\\\n",
    "                      Final_CIGALE['subaru.suprime.i'], Final_CIGALE['subaru.suprime.i_err'],\\\n",
    "                      Final_CIGALE['subaru.suprime.z'], Final_CIGALE['subaru.suprime.z_err'],\\\n",
    "                      Final_CIGALE['subaru.hsc.y'], Final_CIGALE['subaru.hsc.y_err'],\\\n",
    "                      Final_CIGALE['UKIRT_WFCJ'], Final_CIGALE['UKIRT_WFCJ_err'],\\\n",
    "                      Final_CIGALE['cfht.wircam.H'], Final_CIGALE['cfht.wircam.H_err'],\\\n",
    "                      Final_CIGALE['WFCAM_K'], Final_CIGALE['WFCAM_K_err'],\\\n",
    "                      Final_CIGALE['IRAC1'], Final_CIGALE['IRAC1_err'],\\\n",
    "                      Final_CIGALE['IRAC2'], Final_CIGALE['IRAC2_err'],\\\n",
    "                      Final_CIGALE['IRAC3'], Final_CIGALE['IRAC3_err'],\\\n",
    "                      Final_CIGALE['IRAC4'], Final_CIGALE['IRAC4_err'],\\\n",
    "                      Final_CIGALE['spitzer.mips.24'], Final_CIGALE['spitzer.mips.24_err'],\\\n",
    "                      Final_CIGALE['herschel.pacs.100'], Final_CIGALE['herschel.pacs.100_err'],\\\n",
    "                      Final_CIGALE['herschel.pacs.160'], Final_CIGALE['herschel.pacs.160_err'],\\\n",
    "                      Final_CIGALE['herschel.spire.PSW'], Final_CIGALE['herschel.spire.PSW_err'],\\\n",
    "                      Final_CIGALE['herschel.spire.PMW'], Final_CIGALE['herschel.spire.PMW_err'],\\\n",
    "                      Final_CIGALE['herschel.spire.PLW'], Final_CIGALE['herschel.spire.PLW_err'],\\\n",
    "                      Final_CIGALE['line.NII-654.8+line.H-alpha+line.NII-658.4'],\\\n",
    "                      Final_CIGALE['line.NII-654.8+line.H-alpha+line.NII-658.4_err'],\\\n",
    "                      Final_CIGALE['line.H-beta'], Final_CIGALE['line.H-beta_err'],\\\n",
    "                      Final_CIGALE['line.H-16+line.H-15+line.OII-372.7+line.H-13+line.H-12'],\\\n",
    "                      Final_CIGALE['line.H-16+line.H-15+line.OII-372.7+line.H-13+line.H-12_err'],\\\n",
    "                      Final_CIGALE['line.OIII-500.7'], Final_CIGALE['line.OIII-500.7_err']],\\\n",
    "               names = ('id','redshift', 'galex.NUV', 'galex.NUV_err', 'cfht.megacam.u', 'cfht.megacam.u_err',\\\n",
    "                        'subaru.suprime.B', 'subaru.suprime.B_err', 'subaru.suprime.V', 'subaru.suprime.V_err',\\\n",
    "                        'subaru.suprime.r', 'subaru.suprime.r_err', 'subaru.suprime.i', 'subaru.suprime.i_err',\\\n",
    "                        'subaru.suprime.z', 'subaru.suprime.z_err', 'subaru.hsc.y', 'subaru.hsc.y_err',\\\n",
    "                        'UKIRT_WFCJ', 'UKIRT_WFCJ_err', 'cfht.wircam.H', 'cfht.wircam.H_err',\\\n",
    "                        'WFCAM_K', 'WFCAM_K_err', 'IRAC1', 'IRAC1_err',\\\n",
    "                        'IRAC2', 'IRAC2_err', 'IRAC3', 'IRAC3_err',\\\n",
    "                        'IRAC4', 'IRAC4_err', 'spitzer.mips.24', 'spitzer.mips.24_err',\\\n",
    "                        'herschel.pacs.100', 'herschel.pacs.100_err',\\\n",
    "                        'herschel.pacs.160', 'herschel.pacs.160_err',\\\n",
    "                        'herschel.spire.PSW', 'herschel.spire.PSW_err',\\\n",
    "                        'herschel.spire.PMW', 'herschel.spire.PMW_err',\\\n",
    "                        'herschel.spire.PLW', 'herschel.spire.PLW_err',\\\n",
    "                        'line.NII-654.8+line.H-alpha+line.NII-658.4', 'line.NII-654.8+line.H-alpha+line.NII-658.4_err',\\\n",
    "                        'line.H-beta', 'line.H-beta_err',\\\n",
    "                        'line.H-16+line.H-15+line.OII-372.7+line.H-13+line.H-12',\\\n",
    "                        'line.H-16+line.H-15+line.OII-372.7+line.H-13+line.H-12_err',\\\n",
    "                        'line.OIII-500.7', 'line.OIII-500.7_err'))\n",
    "\n",
    "os.system('rm -rf /home/jvilla/Documents/PhD_2018/3DHST_Data/COSMOS_GOODS-S_MosphoXray_Sample/'\n",
    "          'Ha_OII_Samples-Morphology/COSMOS_HaOIII.fits')\n",
    "cosmos_final.write('/home/jvilla/Documents/PhD_2018/3DHST_Data/COSMOS_GOODS-S_MosphoXray_Sample/'\n",
    "          'Ha_OII_Samples-Morphology/COSMOS_HaOIII.fits', format='fits')\n",
    "\n",
    "#-------------------------------------------------------------------------------------------------------------------\n",
    "\n",
    "GOODSS_final_sample = goodss[(goodss['line.NII-654.8+line.H-alpha+line.NII-658.4']/goodss['line.NII-654.8+line.H-alpha+line.NII-658.4_err'] > 3) &\\\n",
    "                     (goodss['line.OIII-500.7']/goodss['line.OIII-500.7_err'] > 3)]\n",
    "\n",
    "final_GOODSS = Table([GOODSS_final_sample['id'], GOODSS_final_sample['redshift'],\\\n",
    "                      GOODSS_final_sample['UVIMOS'], GOODSS_final_sample['UVIMOS_err'],\\\n",
    "                      GOODSS_final_sample['hst.wfc.F435W'], GOODSS_final_sample['hst.wfc.F435W_err'],\\\n",
    "                      GOODSS_final_sample['hst.wfc.F606W'], GOODSS_final_sample['hst.wfc.F606W_err'],\\\n",
    "                      GOODSS_final_sample['hst.wfc.F755W'], GOODSS_final_sample['hst.wfc.F755W_err'],\\\n",
    "                      GOODSS_final_sample['hst.wfc.F814W'], GOODSS_final_sample['hst.wfc.F814W_err'],\\\n",
    "                      GOODSS_final_sample['ACS_F850LP'], GOODSS_final_sample['ACS_F850LP_err'],\\\n",
    "                      GOODSS_final_sample['WFC3_F098M'], GOODSS_final_sample['WFC3_F098M_err'],\\\n",
    "                      GOODSS_final_sample['WFC3_F105W'], GOODSS_final_sample['WFC3_F105W_err'],\\\n",
    "                      GOODSS_final_sample['hst.wfc3.F125W'], GOODSS_final_sample['hst.wfc3.F125W_err'],\\\n",
    "                      GOODSS_final_sample['hst.wfc3.F160W'], GOODSS_final_sample['hst.wfc3.F160W_err'],\\\n",
    "                      GOODSS_final_sample['ISAACKs'], GOODSS_final_sample['ISAACKs_err'],\\\n",
    "                      GOODSS_final_sample['spitzer.irac.ch1'], GOODSS_final_sample['spitzer.irac.ch1_err'],\\\n",
    "                      GOODSS_final_sample['spitzer.irac.ch2'], GOODSS_final_sample['spitzer.irac.ch2_err'],\\\n",
    "                      GOODSS_final_sample['spitzer.irac.ch3'], GOODSS_final_sample['spitzer.irac.ch3_err'],\\\n",
    "                      GOODSS_final_sample['spitzer.irac.ch4'], GOODSS_final_sample['spitzer.irac.ch4_err'],\\\n",
    "                      GOODSS_final_sample['spitzer.mips.24'], GOODSS_final_sample['spitzer.mips.24_err'],\\\n",
    "                      GOODSS_final_sample['herschel.pacs.70'], GOODSS_final_sample['herschel.pacs.70_err'],\\\n",
    "                      GOODSS_final_sample['herschel.pacs.100'], GOODSS_final_sample['herschel.pacs.100_err'],\\\n",
    "                      GOODSS_final_sample['herschel.pacs.160'], GOODSS_final_sample['herschel.pacs.160_err'],\\\n",
    "                      GOODSS_final_sample['herschel.spire.PSW'], GOODSS_final_sample['herschel.spire.PSW_err'],\\\n",
    "                      GOODSS_final_sample['herschel.spire.PMW'], GOODSS_final_sample['herschel.spire.PMW_err'],\\\n",
    "                      GOODSS_final_sample['herschel.spire.PLW'], GOODSS_final_sample['herschel.spire.PLW_err'],\\\n",
    "                      GOODSS_final_sample['line.NII-654.8+line.H-alpha+line.NII-658.4'], GOODSS_final_sample['line.NII-654.8+line.H-alpha+line.NII-658.4_err'],\\\n",
    "                      GOODSS_final_sample['line.H-beta'], GOODSS_final_sample['line.H-beta_err'],\\\n",
    "                      GOODSS_final_sample['line.H-16+line.H-15+line.OII-372.7+line.H-13+line.H-12'], GOODSS_final_sample['line.H-16+line.H-15+line.OII-372.7+line.H-13+line.H-12_err'],\\\n",
    "                      GOODSS_final_sample['line.OIII-500.7'], GOODSS_final_sample['line.OIII-500.7_err']],\\\n",
    "               names = ('id', 'redshift',\\\n",
    "                        'UVIMOS', 'UVIMOS_err',\\\n",
    "                        'hst.wfc.F435W', 'hst.wfc.F435W_err',\\\n",
    "                        'hst.wfc.F606W', 'hst.wfc.F606W_err',\\\n",
    "                        'hst.wfc.F755W', 'hst.wfc.F755W_err',\\\n",
    "                        'hst.wfc.F814W', 'hst.wfc.F814W_err',\\\n",
    "                        'ACS_F850LP', 'ACS_F850LP_err',\\\n",
    "                        'WFC3_F098M', 'WFC3_F098M_err',\\\n",
    "                        'WFC3_F105W', 'WFC3_F105W_err',\\\n",
    "                        'hst.wfc3.F125W', 'hst.wfc3.F125W_err',\\\n",
    "                        'hst.wfc3.F160W', 'hst.wfc3.F160W_err',\\\n",
    "                        'ISAACKs', 'ISAACKs_err',\\\n",
    "                        'spitzer.irac.ch1', 'spitzer.irac.ch1_err',\\\n",
    "                        'spitzer.irac.ch2', 'spitzer.irac.ch2_err',\\\n",
    "                        'spitzer.irac.ch3', 'spitzer.irac.ch3_err',\\\n",
    "                        'spitzer.irac.ch4', 'spitzer.irac.ch4_err',\\\n",
    "                        'spitzer.mips.24', 'spitzer.mips.24_err',\\\n",
    "                        'herschel.pacs.70', 'herschel.pacs.70_err',\\\n",
    "                        'herschel.pacs.100', 'herschel.pacs.100_err',\\\n",
    "                        'herschel.pacs.160', 'herschel.pacs.160_err',\\\n",
    "                        'herschel.spire.PSW', 'herschel.spire.PSW_err',\\\n",
    "                        'herschel.spire.PMW', 'herschel.spire.PMW_err',\\\n",
    "                        'herschel.spire.PLW', 'herschel.spire.PLW_err',\\\n",
    "                        'line.NII-654.8+line.H-alpha+line.NII-658.4',\\\n",
    "                        'line.NII-654.8+line.H-alpha+line.NII-658.4_err',\\\n",
    "                        'line.H-beta', 'line.H-beta_err',\\\n",
    "                        'line.H-16+line.H-15+line.OII-372.7+line.H-13+line.H-12',\\\n",
    "                        'line.H-16+line.H-15+line.OII-372.7+line.H-13+line.H-12_err',\\\n",
    "                        'line.OIII-500.7', 'line.OIII-500.7_err'))\n",
    "\n",
    "os.system('rm -rf /home/jvilla/Documents/PhD_2018/3DHST_Data/COSMOS_GOODS-S_MosphoXray_Sample/'\n",
    "          'Ha_OII_Samples-Morphology/GOODSS_HaOIII.fits')\n",
    "final_GOODSS.write('/home/jvilla/Documents/PhD_2018/3DHST_Data/COSMOS_GOODS-S_MosphoXray_Sample/'\n",
    "          'Ha_OII_Samples-Morphology/GOODSS_HaOIII.fits', format = 'fits', overwrite = True)"
   ]
  },
  {
   "cell_type": "markdown",
   "metadata": {},
   "source": [
    "# XMM-Newton and Chandra data for COSMOS/GOODS-S\n",
    "\n",
    "# I'm not going to use this data yet!!!!"
   ]
  },
  {
   "cell_type": "code",
   "execution_count": 74,
   "metadata": {},
   "outputs": [],
   "source": [
    "goodss_chandra = Table.read('/home/jvilla/Documents/PhD_2018/3DHST_Data/COSMOS_GOODS-S_MosphoXray_Sample/'\n",
    "                            'Xray-CHANDRA-data/GOODS-S/catalog_to_be_published/catalog_to_be_published.fits', format = 'fits')"
   ]
  },
  {
   "cell_type": "code",
   "execution_count": 79,
   "metadata": {},
   "outputs": [],
   "source": [
    "cosmos_chandra = Table.read('/home/jvilla/Documents/PhD_2018/3DHST_Data/COSMOS_GOODS-S_MosphoXray_Sample/'\n",
    "                            'Xray-CHANDRA-data/COSMOS/CHANDRA/Chandra_COSMOS_Legacy_20151120_4d.fits', format = 'fits')\n",
    "\n",
    "cosmos_xmmnew  = Table.read('/home/jvilla/Documents/PhD_2018/3DHST_Data/COSMOS_GOODS-S_MosphoXray_Sample/'\n",
    "                            'Xray-CHANDRA-data/COSMOS/XMM/cosmos_xmm_200811_v2.tbl', format = 'ascii')"
   ]
  },
  {
   "cell_type": "code",
   "execution_count": 83,
   "metadata": {},
   "outputs": [
    {
     "name": "stderr",
     "output_type": "stream",
     "text": [
      "WARNING: UnitsWarning: 'flux / 1e-14' did not parse as fits unit: At col 0, Unit 'flux' not supported by the FITS standard. Did you mean flx? [astropy.units.core]\n",
      "WARNING: UnitsWarning: 'cts/pix' did not parse as fits unit: At col 0, Unit 'cts' not supported by the FITS standard. Did you mean cT or ct? [astropy.units.core]\n",
      "WARNING: Attribute `keywords` of type <class 'collections.OrderedDict'> cannot be added to FITS Header - skipping [astropy.io.fits.convenience]\n"
     ]
    }
   ],
   "source": [
    "# Tranforming 'tbl' data into a 'fits' file for TOPCAT\n",
    "\n",
    "cosmos_xmmnew.write('/home/jvilla/Documents/PhD_2018/3DHST_Data/COSMOS_GOODS-S_MosphoXray_Sample/'\n",
    "                            'Xray-CHANDRA-data/COSMOS/XMM/cosmos_xmm_200811_v2.fits', format = 'fits', overwrite=True)"
   ]
  },
  {
   "cell_type": "markdown",
   "metadata": {},
   "source": [
    "# COSMOS/GOODS-S Morphology + Xray"
   ]
  },
  {
   "cell_type": "code",
   "execution_count": null,
   "metadata": {},
   "outputs": [],
   "source": [
    "# Data stored in:\n",
    "\n",
    "# '/home/jvilla/Documents/PhD_2018/3DHST_Data/COSMOS_GOODS-S_MosphoXray_Sample/'\n",
    "#                          'Morphology-CANDELS-fields/COSMOS_f160w_060mas_v1.0_galfit.fits'\n",
    "\n",
    "# '/home/jvilla/Documents/PhD_2018/3DHST_Data/COSMOS_GOODS-S_MosphoXray_Sample/'\n",
    "#                          'Morphology-CANDELS-fields/GOODS-S_f160w_v0.5_galfit.fits'\n",
    "\n",
    "# is crossmatched to CHANDRA data only!    "
   ]
  },
  {
   "cell_type": "code",
   "execution_count": 10,
   "metadata": {},
   "outputs": [],
   "source": [
    "cosmos_morpho_xray = Table.read('/home/jvilla/Documents/PhD_2018/3DHST_Data/COSMOS_GOODS-S_MosphoXray_Sample/'\n",
    "                                'COSMOS-Morpho-Xray.fits', format = 'fits')\n",
    "goodss_morpho_xray = Table.read('/home/jvilla/Documents/PhD_2018/3DHST_Data/COSMOS_GOODS-S_MosphoXray_Sample/'\n",
    "                                'GOODS-S-Morpho-Xray.fits', format = 'fits')"
   ]
  },
  {
   "cell_type": "code",
   "execution_count": 11,
   "metadata": {},
   "outputs": [
    {
     "data": {
      "text/plain": [
       "(-0.05, 0.01)"
      ]
     },
     "execution_count": 11,
     "metadata": {},
     "output_type": "execute_result"
    },
    {
     "data": {
      "image/png": "[encoded data removed]",
      "text/plain": [
       "<Figure size 432x288 with 1 Axes>"
      ]
     },
     "metadata": {
      "needs_background": "light"
     },
     "output_type": "display_data"
    }
   ],
   "source": [
    "plt.scatter(goodss['redshift']*(goodss['hst.wfc.F606W']-goodss['hst.wfc3.F125W']),\\\n",
    "            goodss['redshift']*(goodss['UVIMOS']-goodss['hst.wfc.F606W']), s = 0.5)\n",
    "plt.scatter(cosmos['redshift']*(cosmos['subaru.suprime.V']-cosmos['UKIRT_WFCJ']),\\\n",
    "            cosmos['redshift']*(cosmos['cfht.megacam.u']-cosmos['subaru.suprime.V']), s = 0.5)\n",
    "plt.ylim(-0.015, 0.010)\n",
    "plt.xlim(-0.05, 0.010)"
   ]
  },
  {
   "cell_type": "code",
   "execution_count": 12,
   "metadata": {},
   "outputs": [
    {
     "name": "stderr",
     "output_type": "stream",
     "text": [
      "/home/jvilla/anaconda3/lib/python3.7/site-packages/ipykernel_launcher.py:8: RuntimeWarning: invalid value encountered in log10\n",
      "  \n"
     ]
    },
    {
     "data": {
      "text/plain": [
       "<matplotlib.collections.PathCollection at 0x7f9bb65cbb38>"
      ]
     },
     "execution_count": 12,
     "metadata": {},
     "output_type": "execute_result"
    },
    {
     "data": {
      "image/png": "[encoded data removed]",
      "text/plain": [
       "<Figure size 432x288 with 1 Axes>"
      ]
     },
     "metadata": {
      "needs_background": "light"
     },
     "output_type": "display_data"
    }
   ],
   "source": [
    "COSMOS_final_sample = Final_CIGALE\n",
    "\n",
    "V = GOODSS_final_sample['redshift']*(GOODSS_final_sample['hst.wfc.F606W'])\n",
    "J = GOODSS_final_sample['redshift']*(GOODSS_final_sample['hst.wfc3.F125W'])\n",
    "U = GOODSS_final_sample['redshift']*(GOODSS_final_sample['UVIMOS'])\n",
    "\n",
    "U_V = -2.5*np.log10(U*1e-3/3631.0) + 2.5*np.log10(V*1e-3/3631.0) \n",
    "V_J = -2.5*np.log10(V*1e-3/3631.0) + 2.5*np.log10(J*1e-3/3631.0) \n",
    "\n",
    "V_1 = COSMOS_final_sample['redshift']*(COSMOS_final_sample['subaru.suprime.V'])\n",
    "J_1 = COSMOS_final_sample['redshift']*(COSMOS_final_sample['UKIRT_WFCJ'])\n",
    "U_1 = COSMOS_final_sample['redshift']*(COSMOS_final_sample['cfht.megacam.u'])\n",
    "\n",
    "U_V_1 = -2.5*np.log10(U_1*1e-3/3631.0) + 2.5*np.log10(V_1*1e-3/3631.0) \n",
    "V_J_1 = -2.5*np.log10(V_1*1e-3/3631.0) + 2.5*np.log10(J_1*1e-3/3631.0) \n",
    "\n",
    "\n",
    "plt.scatter(V_J, U_V, s = 3)\n",
    "plt.scatter(V_J_1, U_V_1, s = 3)\n",
    "# plt.ylim(0.0, 2.5)\n",
    "# plt.xlim(0, 2.5)"
   ]
  },
  {
   "cell_type": "code",
   "execution_count": null,
   "metadata": {},
   "outputs": [],
   "source": []
  }
 ],
 "metadata": {
  "kernelspec": {
   "display_name": "Python 3",
   "language": "python",
   "name": "python3"
  },
  "language_info": {
   "codemirror_mode": {
    "name": "ipython",
    "version": 3
   },
   "file_extension": ".py",
   "mimetype": "text/x-python",
   "name": "python",
   "nbconvert_exporter": "python",
   "pygments_lexer": "ipython3",
   "version": "3.7.0"
  }
 },
 "nbformat": 4,
 "nbformat_minor": 2
}
